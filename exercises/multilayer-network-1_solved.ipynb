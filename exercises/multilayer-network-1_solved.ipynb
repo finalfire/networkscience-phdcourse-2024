{
 "cells": [
  {
   "cell_type": "markdown",
   "metadata": {},
   "source": [
    "# Exercise: Modeling and Analyzing a Multilayer Network\n",
    "\n",
    "## Step 1: Create the `MultilayerNetwork` Class\n",
    "Create a class `MultilayerNetwork` based on one of the simple network classes given by a Python library of your choice (e.g., `networkx`). The layers of the network must be discerned by an attribute of the node. Also, indicate how to specify intra-layer and inter-layer connections.\n"
   ]
  },
  {
   "cell_type": "code",
   "execution_count": null,
   "metadata": {},
   "outputs": [],
   "source": [
    "import networkx as nx\n",
    "\n",
    "class MultilayerNetwork:\n",
    "    def __init__(self):\n",
    "        self.graph = nx.Graph()\n",
    "        self.node_layers = {}  # Dictionary to store node layers\n",
    "        self.intra_layer_edges = set()\n",
    "        self.inter_layer_edges = set()\n",
    "\n",
    "    def add_node(self, node, layer):\n",
    "        self.graph.add_node(node, layer=layer)\n",
    "        self.node_layers[node] = layer\n",
    "\n",
    "    def add_edge(self, node1, node2, layer1, layer2):\n",
    "        self.graph.add_edge(node1, node2)\n",
    "        if layer1 == layer2:\n",
    "            self.intra_layer_edges.add((node1, node2))\n",
    "        else:\n",
    "            self.inter_layer_edges.add((node1, node2))"
   ]
  },
  {
   "cell_type": "markdown",
   "metadata": {
    "vscode": {
     "languageId": "plaintext"
    }
   },
   "source": [
    "## Step 2: Make an Instance of `MultilayerNetwork`\n",
    "Create an instance of the `MultilayerNetwork` class with some sample data."
   ]
  },
  {
   "cell_type": "code",
   "execution_count": null,
   "metadata": {},
   "outputs": [],
   "source": [
    "# Create an instance of MultilayerNetwork\n",
    "network = MultilayerNetwork()\n",
    "\n",
    "# Add nodes with layers\n",
    "network.add_node('A', layer=0)\n",
    "network.add_node('B', layer=0)\n",
    "network.add_node('C', layer=1)\n",
    "network.add_node('D', layer=1)\n",
    "\n",
    "# Add edges (both intra-layer and inter-layer)\n",
    "network.add_edge('A', 'B', layer1=0, layer2=0)\n",
    "network.add_edge('C', 'D', layer1=1, layer2=1)\n",
    "network.add_edge('A', 'C', layer1=0, layer2=1)"
   ]
  },
  {
   "cell_type": "markdown",
   "metadata": {},
   "source": [
    "\n",
    "## Step 3: Create a Function to Check if the Network is Multiplex\n",
    "Create a function that returns `True` if the represented network is a multiplex one."
   ]
  },
  {
   "cell_type": "code",
   "execution_count": null,
   "metadata": {},
   "outputs": [],
   "source": [
    "def is_multiplex(network):\n",
    "    return all(network.node_layers[node1] == network.node_layers[node2] for node1, node2 in network.inter_layer_edges)\n",
    "\n",
    "# Check if the network is multiplex\n",
    "print(is_multiplex(network))  # Output: False"
   ]
  },
  {
   "cell_type": "markdown",
   "metadata": {},
   "source": [
    "## Step 4: Create a Function to Return the Vector-Type Node Degree\n",
    "Create a function that, given a node, returns its vector-type node degree."
   ]
  },
  {
   "cell_type": "code",
   "execution_count": null,
   "metadata": {},
   "outputs": [],
   "source": [
    "def vector_type_node_degree(network, node):\n",
    "    if not is_multiplex(network):\n",
    "        raise ValueError(\"The network is not multiplex\")\n",
    "    \n",
    "    degree_vector = []\n",
    "    layers = set(network.node_layers.values())\n",
    "    for layer in layers:\n",
    "        layer_nodes = [n for n in network.graph.nodes if network.node_layers[n] == layer]\n",
    "        layer_graph = network.graph.subgraph(layer_nodes)\n",
    "        degree_vector.append(layer_graph.degree[node] if node in layer_graph else 0)\n",
    "    \n",
    "    return degree_vector\n",
    "\n",
    "# Example: Get vector-type node degree for node 'A'\n",
    "print(vector_type_node_degree(network, 'A'))  # Output: Raises ValueError as the network is not multiplex\n"
   ]
  },
  {
   "cell_type": "markdown",
   "metadata": {},
   "source": [
    "## Step 5: Create a Function to Plot the Overlapping Degree of All Nodes\n",
    "Create a function that plots the overlapping degree of all nodes. The overlapping degree of a node is an aggregation (e.g., average) of its vector-type node degree."
   ]
  },
  {
   "cell_type": "code",
   "execution_count": null,
   "metadata": {},
   "outputs": [],
   "source": [
    "import matplotlib.pyplot as plt\n",
    "\n",
    "def plot_overlapping_degree(network):\n",
    "    if not is_multiplex(network):\n",
    "        raise ValueError(\"The network is not multiplex\")\n",
    "    \n",
    "    overlapping_degrees = {}\n",
    "    layers = set(network.node_layers.values())\n",
    "    for node in network.graph.nodes:\n",
    "        degree_vector = vector_type_node_degree(network, node)\n",
    "        overlapping_degrees[node] = sum(degree_vector) / len(layers)\n",
    "    \n",
    "    nodes = list(overlapping_degrees.keys())\n",
    "    degrees = list(overlapping_degrees.values())\n",
    "    \n",
    "    plt.bar(nodes, degrees)\n",
    "    plt.xlabel('Nodes')\n",
    "    plt.ylabel('Overlapping Degree')\n",
    "    plt.title('Overlapping Degree of All Nodes')\n",
    "    plt.show()\n",
    "\n",
    "# Example: Plot overlapping degree of the network\n",
    "# This will raise ValueError as the network is not multiplex\n",
    "plot_overlapping_degree(network)"
   ]
  }
 ],
 "metadata": {
  "language_info": {
   "name": "python"
  }
 },
 "nbformat": 4,
 "nbformat_minor": 2
}
