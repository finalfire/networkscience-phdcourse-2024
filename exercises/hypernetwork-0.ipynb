{
 "cells": [
  {
   "cell_type": "markdown",
   "metadata": {},
   "source": [
    "## Create a Hypernetwork class\n",
    "- Create a class called `Hypernetwork`.\n",
    "- The class should have attributes to store vertices and hyperedges.\n",
    "- Include methods to add vertices and hyperedges.\n",
    "- Ensure that hyperedges can connect any number of vertices."
   ]
  },
  {
   "cell_type": "code",
   "execution_count": null,
   "metadata": {
    "vscode": {
     "languageId": "plaintext"
    }
   },
   "outputs": [],
   "source": []
  },
  {
   "cell_type": "markdown",
   "metadata": {},
   "source": [
    "## Create an instance of the Hypernetwork class:\n",
    "\n",
    "- Instantiate the Hypernetwork class.\n",
    "- Add a few vertices and hyperedges to the instance.\n",
    "- Print out the structure of your hypernetwork to ensure it is set up correctly."
   ]
  },
  {
   "cell_type": "code",
   "execution_count": null,
   "metadata": {
    "vscode": {
     "languageId": "plaintext"
    }
   },
   "outputs": [],
   "source": []
  },
  {
   "cell_type": "markdown",
   "metadata": {},
   "source": [
    "## Write a function that given a hypernetwork, computes some statistics:\n",
    "\n",
    "- Create a function `compute_statistics(hypernetwork)` that calculates and prints some statistics of the hypernetwork\n",
    "- For instance, print the average degree and the average hyperedge size."
   ]
  },
  {
   "cell_type": "code",
   "execution_count": null,
   "metadata": {
    "vscode": {
     "languageId": "plaintext"
    }
   },
   "outputs": [],
   "source": []
  }
 ],
 "metadata": {
  "language_info": {
   "name": "python"
  }
 },
 "nbformat": 4,
 "nbformat_minor": 2
}
