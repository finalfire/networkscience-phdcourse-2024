{
 "cells": [
  {
   "cell_type": "markdown",
   "metadata": {},
   "source": [
    "## Exercise: Creating and Analyzing a Stream Graph in Python\n",
    "\n",
    "**Objective:* In this exercise, you will:\n",
    "\n",
    "- Write a class in Python that represents a Stream Graph.\n",
    "- Create an instance of this class.\n",
    "- Write a function that, given a Stream Graph and a node, computes the neighborhood and the degree of the node as defined in the provided paper.\n",
    "\n",
    "## Step 1: A Stream Graph class\n",
    "\n",
    "- Define a class `StreamGraph` that includes attributes for time, nodes, and edges.\n",
    "- Include methods to add nodes, add edges, and check if a node or edge exists.\n",
    "- Suggestions:\n",
    "    - Use dictionaries or sets to store nodes and edges for efficient access.\n",
    "    - Consider edge attributes to include the time intervals during which the edges exist."
   ]
  },
  {
   "cell_type": "code",
   "execution_count": null,
   "metadata": {
    "vscode": {
     "languageId": "plaintext"
    }
   },
   "outputs": [],
   "source": []
  },
  {
   "cell_type": "markdown",
   "metadata": {},
   "source": [
    "## Step 2: An instance of the `StreamGraph` class\n",
    "\n",
    "- Initialize an instance of `StreamGraph` with a set of nodes and a set of edges.\n",
    "- Add nodes and edges to this instance.\n",
    "- Suggestions:\n",
    "    - Test your class with a small set of nodes and edges to ensure it behaves as expected.\n",
    "    - Example nodes could be `'a'`, `'b'`, `'c'` and edges could be `[(1, 'a', 'b'), (2, 'a', 'c')]` where the first element is the time.\n"
   ]
  },
  {
   "cell_type": "code",
   "execution_count": null,
   "metadata": {
    "vscode": {
     "languageId": "plaintext"
    }
   },
   "outputs": [],
   "source": []
  },
  {
   "cell_type": "markdown",
   "metadata": {},
   "source": [
    "## Step 3: Compute Neighborhood and Degree\n",
    "\n",
    "- Write a function `compute_neighborhood_and_degree(stream_graph, node)`:\n",
    "- This function should return the neighborhood and the degree of the given node.\n",
    "- Neighborhood: Set of nodes that are connected to the given node at any point in time.\n",
    "- Degree: Number of unique nodes in the neighborhood."
   ]
  }
 ],
 "metadata": {
  "language_info": {
   "name": "python"
  }
 },
 "nbformat": 4,
 "nbformat_minor": 2
}
