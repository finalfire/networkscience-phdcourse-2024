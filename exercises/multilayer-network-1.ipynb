{
 "cells": [
  {
   "cell_type": "markdown",
   "metadata": {},
   "source": [
    "# Exercise: Modeling and Analyzing a Multilayer Network\n",
    "\n",
    "## Step 1: Create the `MultilayerNetwork` Class\n",
    "Create a class `MultilayerNetwork` based on one of the simple network classes given by a Python library of your choice (e.g., `networkx`). The layers of the network must be discerned by an attribute of the node. Also, indicate how to specify intra-layer and inter-layer connections."
   ]
  },
  {
   "cell_type": "code",
   "execution_count": null,
   "metadata": {},
   "outputs": [],
   "source": [
    "import networkx as nx\n",
    "\n",
    "class MultilayerNetwork:\n",
    "    def __init__(self):\n",
    "        # TODO\n",
    "    \n",
    "    def add_node(self, node, layer):\n",
    "        # TODO\n",
    "\n",
    "    def add_edge(self, node1, node2, layer1, layer2):\n",
    "        # TODO"
   ]
  },
  {
   "cell_type": "markdown",
   "metadata": {
    "vscode": {
     "languageId": "plaintext"
    }
   },
   "source": [
    "## Step 2: Make an Instance of `MultilayerNetwork`\n",
    "Create an instance of the `MultilayerNetwork` class with some sample data."
   ]
  },
  {
   "cell_type": "code",
   "execution_count": null,
   "metadata": {},
   "outputs": [],
   "source": [
    "network = MultilayerNetwork()\n",
    "\n",
    "network.add_node('A', layer=0)\n",
    "network.add_node('B', layer=0)\n",
    "network.add_node('C', layer=1)\n",
    "network.add_node('D', layer=1)\n",
    "\n",
    "network.add_edge('A', 'B', layer1=0, layer2=0)\n",
    "network.add_edge('C', 'D', layer1=1, layer2=1)\n",
    "network.add_edge('A', 'C', layer1=0, layer2=1)"
   ]
  },
  {
   "cell_type": "markdown",
   "metadata": {},
   "source": [
    "\n",
    "## Step 3: Create a Function to Check if the Network is Multiplex\n",
    "Create a function that returns `True` if the represented network is a multiplex one."
   ]
  },
  {
   "cell_type": "code",
   "execution_count": null,
   "metadata": {},
   "outputs": [],
   "source": []
  },
  {
   "cell_type": "code",
   "execution_count": null,
   "metadata": {},
   "outputs": [],
   "source": []
  },
  {
   "cell_type": "markdown",
   "metadata": {},
   "source": [
    "## Step 4: Create a Function to Return the Vector-Type Node Degree\n",
    "Create a function that, given a node, returns its vector-type node degree."
   ]
  },
  {
   "cell_type": "code",
   "execution_count": null,
   "metadata": {},
   "outputs": [],
   "source": []
  },
  {
   "cell_type": "markdown",
   "metadata": {},
   "source": [
    "## Step 5: Create a Function to Plot the Overlapping Degree of All Nodes\n",
    "Create a function that plots the overlapping degree of all nodes. The overlapping degree of a node is an aggregation (e.g., average) of its vector-type node degree."
   ]
  },
  {
   "cell_type": "code",
   "execution_count": null,
   "metadata": {},
   "outputs": [],
   "source": []
  }
 ],
 "metadata": {
  "language_info": {
   "name": "python"
  }
 },
 "nbformat": 4,
 "nbformat_minor": 2
}
