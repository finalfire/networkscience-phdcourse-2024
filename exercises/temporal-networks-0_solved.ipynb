{
  "cells": [
    {
      "cell_type": "markdown",
      "metadata": {},
      "source": [
        "## Step 1: Define a TemporalNetwork Class\n",
        "\n",
        "**Objective**: Create a class TemporalNetwork that represents a temporal network using the contact sequence representation.\n",
        "\n",
        "**Attributes**:\n",
        "- `contacts`: A list of tuples, where each tuple represents a contact `(i, j, t)` indicating a contact between vertex `i` and vertex `j` at time `t`.\n",
        "- `vertices`: A set of all unique vertices in the network.\n",
        "\n",
        "**Methods**:\n",
        "- `add_contact(i, j, t)`: Add a contact `(i, j, t)` to the network.\n",
        "- `get_contacts()`: Return the list of contacts.\n",
        "- `get_vertices()`: Return the set of vertices.\n",
        "- `time_respecting_paths(i, j)`: Compute and return all time-respecting paths from vertex `i` to vertex `j`."
      ]
    },
    {
      "cell_type": "code",
      "execution_count": null,
      "metadata": {},
      "outputs": [],
      "source": [
        "class TemporalNetwork:\n",
        "    def __init__(self):\n",
        "        self.contacts = []\n",
        "        self.vertices = set()\n",
        "    \n",
        "    def add_contact(self, i, j, t):\n",
        "        self.contacts.append((i, j, t))\n",
        "        self.vertices.update([i, j])\n",
        "    \n",
        "    def get_contacts(self):\n",
        "        return self.contacts\n",
        "    \n",
        "    def get_vertices(self):\n",
        "        return self.vertices\n",
        "    \n",
        "    def time_respecting_paths(self, i, j):\n",
        "        from collections import deque\n",
        "        \n",
        "        paths = []\n",
        "        queue = deque([(i, [], 0)])  # (current_node, path_so_far, last_time)\n",
        "        \n",
        "        while queue:\n",
        "            current_node, path_so_far, last_time = queue.popleft()\n",
        "            \n",
        "            for contact in self.contacts:\n",
        "                if contact[0] == current_node and contact[2] > last_time:\n",
        "                    new_path = path_so_far + [contact]\n",
        "                    if contact[1] == j:\n",
        "                        paths.append(new_path)\n",
        "                    else:\n",
        "                        queue.append((contact[1], new_path, contact[2]))\n",
        "        \n",
        "        return paths\n",
        "\n",
        "# Example usage\n",
        "tn = TemporalNetwork()\n",
        "tn.add_contact('A', 'B', 1)\n",
        "tn.add_contact('B', 'C', 3)\n",
        "tn.add_contact('A', 'C', 5)\n",
        "\n",
        "print(\"Contacts:\", tn.get_contacts())\n",
        "print(\"Vertices:\", tn.get_vertices())\n",
        "print(\"Paths from A to C:\", tn.time_respecting_paths('A', 'C'))"
      ]
    },
    {
      "cell_type": "code",
      "execution_count": null,
      "metadata": {},
      "outputs": [],
      "source": [
        "# Create a TemporalNetwork instance\n",
        "temporal_network = TemporalNetwork()\n",
        "\n",
        "# Add contacts (example data)\n",
        "contacts = [\n",
        "    ('A', 'B', 1),\n",
        "    ('B', 'C', 3),\n",
        "    ('C', 'D', 5),\n",
        "    ('A', 'D', 10),\n",
        "    ('D', 'E', 15)\n",
        "]\n",
        "\n",
        "for contact in contacts:\n",
        "    temporal_network.add_contact(*contact)\n",
        "\n",
        "print(\"Contacts:\", temporal_network.get_contacts())\n",
        "print(\"Vertices:\", temporal_network.get_vertices())"
      ]
    },
    {
      "cell_type": "code",
      "execution_count": null,
      "metadata": {},
      "outputs": [],
      "source": [
        "def compute_reachability_ratio(temporal_network):\n",
        "    vertices = list(temporal_network.get_vertices())\n",
        "    total_pairs = len(vertices) * (len(vertices) - 1)\n",
        "    reachable_pairs = 0\n",
        "    \n",
        "    for i in vertices:\n",
        "        for j in vertices:\n",
        "            if i != j and temporal_network.time_respecting_paths(i, j):\n",
        "                reachable_pairs += 1\n",
        "    \n",
        "    return reachable_pairs / total_pairs\n",
        "\n",
        "reachability_ratio = compute_reachability_ratio(temporal_network)\n",
        "print(\"Reachability Ratio:\", reachability_ratio)"
      ]
    },
    {
      "cell_type": "code",
      "execution_count": null,
      "metadata": {},
      "outputs": [],
      "source": [
        "def compute_average_latency(temporal_network):\n",
        "    from statistics import mean\n",
        "    \n",
        "    latencies = []\n",
        "    vertices = list(temporal_network.get_vertices())\n",
        "    \n",
        "    for i in vertices:\n",
        "        for j in vertices:\n",
        "            if i != j:\n",
        "                paths = temporal_network.time_respecting_paths(i, j)\n",
        "                if paths:\n",
        "                    latencies.append(min(path[-1][2] - path[0][2] for path in paths))\n",
        "    \n",
        "    return mean(latencies) if latencies else float('inf')\n",
        "\n",
        "average_latency = compute_average_latency(temporal_network)\n",
        "print(\"Average Latency:\", average_latency)"
      ]
    }
  ],
  "metadata": {
    "kernelspec": {
      "display_name": "Python 3",
      "language": "python",
      "name": "python3"
    },
    "language_info": {
      "codemirror_mode": {
        "name": "ipython",
        "version": 3
      },
      "file_extension": ".py",
      "mimetype": "text/x-python",
      "name": "python",
      "nbconvert_exporter": "python",
      "pygments_lexer": "ipython3",
      "version": "3.8.5"
    }
  },
  "nbformat": 4,
  "nbformat_minor": 4
}
