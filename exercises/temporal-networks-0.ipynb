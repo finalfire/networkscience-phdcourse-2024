{
 "cells": [
  {
   "cell_type": "markdown",
   "metadata": {},
   "source": [
    "## Step 1: Define a TemporalNetwork Class\n",
    "\n",
    "**Objective**: Create a class TemporalNetwork that represents a temporal network using the contact sequence representation.\n",
    "\n",
    "**Attributes**:\n",
    "- `contacts`: A list of tuples, where each tuple represents a contact `(i, j, t)` indicating a contact between vertex `i` and vertex `j` at time `t`.\n",
    "- `vertices`: A set of all unique vertices in the network.\n",
    "\n",
    "**Methods**:\n",
    "- `add_contact(i, j, t)`: Add a contact `(i, j, t)` to the network.\n",
    "- `get_contacts()`: Return the list of contacts.\n",
    "- `get_vertices()`: Return the set of vertices.\n",
    "- `time_respecting_paths(i, j)`: Compute and return all time-respecting paths from vertex `i` to vertex `j`."
   ]
  },
  {
   "cell_type": "code",
   "execution_count": null,
   "metadata": {
    "vscode": {
     "languageId": "plaintext"
    }
   },
   "outputs": [],
   "source": [
    "class TemporalNetwork:\n",
    "    def __init__(self):\n",
    "        # TODO\n",
    "    \n",
    "    def add_contact(self, i, j, t):\n",
    "        # TODO\n",
    "    \n",
    "    def get_contacts(self):\n",
    "        # TODO\n",
    "    \n",
    "    def get_vertices(self):\n",
    "        # TODO\n",
    "    \n",
    "    def time_respecting_paths(self, i, j):\n",
    "        # TODO\n",
    "        # Pro-tip: this can be implemented through a classical\n",
    "        # breadth-first search (BFS) with a specific check on the\n",
    "        # last time of contact between two nodes"
   ]
  },
  {
   "cell_type": "markdown",
   "metadata": {},
   "source": [
    "## Step 2: Create a Temporal Network and Compute Measures\n",
    "\n",
    "**Objective**: Use the TemporalNetwork class to create a temporal network and compute measures such as reachability ratio and average latency.\n",
    "\n",
    "**Tasks**:\n",
    "- Create a temporal network using a predefined set of contacts.\n",
    "- Implement a function to compute the reachability ratio.\n",
    "- Implement a function to compute the average latency."
   ]
  },
  {
   "cell_type": "code",
   "execution_count": null,
   "metadata": {
    "vscode": {
     "languageId": "plaintext"
    }
   },
   "outputs": [],
   "source": [
    "# Example usage\n",
    "tn = TemporalNetwork()\n",
    "tn.add_contact('A', 'B', 1)\n",
    "tn.add_contact('B', 'C', 3)\n",
    "tn.add_contact('A', 'C', 5)\n",
    "\n",
    "print(\"Contacts:\", tn.get_contacts())\n",
    "print(\"Vertices:\", tn.get_vertices())\n",
    "print(\"Paths from A to C:\", tn.time_respecting_paths('A', 'C'))"
   ]
  },
  {
   "cell_type": "code",
   "execution_count": null,
   "metadata": {
    "vscode": {
     "languageId": "plaintext"
    }
   },
   "outputs": [],
   "source": [
    "def compute_reachability_ratio(temporal_network):\n",
    "    # TODO\n",
    "\n",
    "reachability_ratio = compute_reachability_ratio(tn)\n",
    "print(\"Reachability Ratio:\", reachability_ratio)"
   ]
  },
  {
   "cell_type": "code",
   "execution_count": null,
   "metadata": {
    "vscode": {
     "languageId": "plaintext"
    }
   },
   "outputs": [],
   "source": [
    "def compute_average_latency(temporal_network):\n",
    "    # TODO\n",
    "\n",
    "average_latency = compute_average_latency(tn)\n",
    "print(\"Average Latency:\", average_latency)"
   ]
  }
 ],
 "metadata": {
  "language_info": {
   "name": "python"
  }
 },
 "nbformat": 4,
 "nbformat_minor": 2
}
